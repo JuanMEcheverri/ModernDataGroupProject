{
 "cells": [
  {
   "cell_type": "markdown",
   "metadata": {
    "application/vnd.databricks.v1+cell": {
     "cellMetadata": {
      "byteLimit": 2048000,
      "rowLimit": 10000
     },
     "inputWidgets": {},
     "nuid": "7af3c449-6895-4421-8a6f-45b3c271ecea",
     "showTitle": false,
     "tableResultSettingsMap": {},
     "title": ""
    }
   },
   "source": [
    "# Connect the API"
   ]
  },
  {
   "cell_type": "code",
   "execution_count": 0,
   "metadata": {
    "application/vnd.databricks.v1+cell": {
     "cellMetadata": {
      "byteLimit": 2048000,
      "rowLimit": 10000
     },
     "inputWidgets": {},
     "nuid": "23f6c9a2-4f8f-4c03-92aa-24f6b7324a28",
     "showTitle": false,
     "tableResultSettingsMap": {},
     "title": ""
    }
   },
   "outputs": [],
   "source": [
    "#%pip install dotenv"
   ]
  },
  {
   "cell_type": "code",
   "execution_count": 0,
   "metadata": {
    "application/vnd.databricks.v1+cell": {
     "cellMetadata": {
      "byteLimit": 2048000,
      "rowLimit": 10000
     },
     "inputWidgets": {},
     "nuid": "af330506-f560-4e5b-9cce-4f42f962cdd1",
     "showTitle": false,
     "tableResultSettingsMap": {},
     "title": ""
    }
   },
   "outputs": [],
   "source": [
    "#%pip install simfin"
   ]
  },
  {
   "cell_type": "code",
   "execution_count": 0,
   "metadata": {
    "application/vnd.databricks.v1+cell": {
     "cellMetadata": {
      "byteLimit": 2048000,
      "rowLimit": 10000
     },
     "inputWidgets": {},
     "nuid": "90892d4e-ce68-4a5b-8be5-5f7bc4f49d7f",
     "showTitle": false,
     "tableResultSettingsMap": {},
     "title": ""
    }
   },
   "outputs": [],
   "source": [
    "#Get the API Key\n",
    "from dotenv import load_dotenv\n",
    "import os\n"
   ]
  },
  {
   "cell_type": "code",
   "execution_count": 0,
   "metadata": {
    "application/vnd.databricks.v1+cell": {
     "cellMetadata": {
      "byteLimit": 2048000,
      "rowLimit": 10000
     },
     "inputWidgets": {},
     "nuid": "ed2fbf2d-ef68-41f9-b1ee-1c7a6f6359bb",
     "showTitle": false,
     "tableResultSettingsMap": {},
     "title": ""
    }
   },
   "outputs": [],
   "source": [
    "import simfin as sf\n",
    "from simfin.names import *\n",
    "marketImport = 'us'\n",
    "\n",
    "# Set your API-key for downloading data.\n",
    "sf.set_api_key('75bc1037-74fd-4430-97f9-df067f599dd6')\n",
    "sf.set_data_dir('/Workspace/Repos/Group9/ModernDataGroupProject/DownloadShareprices')\n",
    "\n",
    "# Download the data from the SimFin server and load into a Pandas DataFrame.\n",
    "df = sf.load_shareprices(market=marketImport, variant='daily')\n",
    "\n",
    "# Display the first rows of the data.\n",
    "display(df.head())"
   ]
  },
  {
   "cell_type": "code",
   "execution_count": 0,
   "metadata": {
    "application/vnd.databricks.v1+cell": {
     "cellMetadata": {
      "byteLimit": 2048000,
      "rowLimit": 10000
     },
     "inputWidgets": {},
     "nuid": "a631f5c0-ee6f-41de-822c-fff60f24b0e6",
     "showTitle": false,
     "tableResultSettingsMap": {},
     "title": ""
    }
   },
   "outputs": [],
   "source": [
    "\"\"\"import os\n",
    "\n",
    "# Create the new folder\n",
    "folder_path = '/Workspace/Repos/Group9/ModernDataGroupProject/DownloadShareprices'\n",
    "os.makedirs(folder_path, exist_ok=True)\n",
    "\n",
    "# Save the DataFrame as a JSON file\n",
    "json_file_path = os.path.join(folder_path, f'{marketImport}-shareprices.json')\n",
    "df.to_json(json_file_path, orient='records')\n",
    "\"\"\" #Nno es necesario, ya se esta haciendo en la enterior"
   ]
  },
  {
   "cell_type": "code",
   "execution_count": 0,
   "metadata": {
    "application/vnd.databricks.v1+cell": {
     "cellMetadata": {
      "byteLimit": 2048000,
      "rowLimit": 10000
     },
     "inputWidgets": {},
     "nuid": "b81155d9-e04e-4ccf-ad60-9fb9d7d08fcd",
     "showTitle": false,
     "tableResultSettingsMap": {},
     "title": ""
    }
   },
   "outputs": [],
   "source": [
    "index_count = df.index.nunique()\n",
    "index_count"
   ]
  },
  {
   "cell_type": "code",
   "execution_count": 0,
   "metadata": {
    "application/vnd.databricks.v1+cell": {
     "cellMetadata": {
      "byteLimit": 2048000,
      "rowLimit": 10000
     },
     "inputWidgets": {},
     "nuid": "d2016b91-e43a-40b3-b73c-ffe238325a10",
     "showTitle": false,
     "tableResultSettingsMap": {},
     "title": ""
    }
   },
   "outputs": [],
   "source": [
    "df.columns"
   ]
  },
  {
   "cell_type": "code",
   "execution_count": 0,
   "metadata": {
    "application/vnd.databricks.v1+cell": {
     "cellMetadata": {
      "byteLimit": 2048000,
      "rowLimit": 10000
     },
     "inputWidgets": {},
     "nuid": "13cc5870-8b5f-42e9-a511-f1eaf842c1c0",
     "showTitle": false,
     "tableResultSettingsMap": {},
     "title": ""
    }
   },
   "outputs": [],
   "source": [
    "%python\n",
    "# Import necessary libraries\n",
    "import os\n",
    "\n",
    "# Define the repository path\n",
    "repo_path = '/Workspace/Repos/Group9/ModernDataGroupProject'\n",
    "\n",
    "# Navigate to the repository path\n",
    "os.chdir(repo_path)\n",
    "\n",
    "# Add changes to the staging area\n",
    "os.system('git add .')\n",
    "\n",
    "# Commit the changes\n",
    "commit_message = 'Initial Commit'\n",
    "os.system(f'git commit -m \"{commit_message}\"')\n",
    "\n",
    "# Push the changes to the remote repository\n",
    "os.system('git push')"
   ]
  }
 ],
 "metadata": {
  "application/vnd.databricks.v1+notebook": {
   "computePreferences": null,
   "dashboards": [],
   "environmentMetadata": null,
   "language": "python",
   "notebookMetadata": {
    "pythonIndentUnit": 4
   },
   "notebookName": "API",
   "widgets": {}
  },
  "kernelspec": {
   "display_name": "Python 3",
   "language": "python",
   "name": "python3"
  },
  "language_info": {
   "name": "python"
  }
 },
 "nbformat": 4,
 "nbformat_minor": 0
}
